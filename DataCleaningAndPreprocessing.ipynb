{
  "cells": [
    {
      "cell_type": "markdown",
      "metadata": {
        "id": "3YShIE4WdAsv"
      },
      "source": [
        "---"
      ]
    },
    {
      "cell_type": "code",
      "execution_count": null,
      "metadata": {
        "deletable": false,
        "nbgrader": {
          "cell_type": "code",
          "checksum": "291bf4c835be763a89ad8073ee2759a4",
          "grade": false,
          "grade_id": "cell-06c917871c3a1278",
          "locked": false,
          "schema_version": 3,
          "solution": true,
          "task": false
        },
        "id": "6kHY8xX3dAsw",
        "outputId": "644b6f37-e89e-4444-b125-a9cbead5ede1"
      },
      "outputs": [
        {
          "name": "stdout",
          "output_type": "stream",
          "text": [
            "Match: bark\n",
            "Don't match: baa\n",
            "Don't match: bellow\n",
            "Don't match: boom\n"
          ]
        }
      ],
      "source": [
        "import re\n",
        "pattern = \"bark\"\n",
        "strings = ['bark', 'baa', 'bellow', 'boom']\n",
        "for s in strings:\n",
        "    if re.match(pattern, s):\n",
        "        print(f\"Match: {s}\")\n",
        "    else:\n",
        "        print(f\"Don't match: {s}\")"
      ]
    },
    {
      "cell_type": "code",
      "execution_count": 1,
      "metadata": {
        "deletable": false,
        "nbgrader": {
          "cell_type": "code",
          "checksum": "44a37f5523f1ae4e3d2f8dbebda769c0",
          "grade": false,
          "grade_id": "cell-c2b43541470deaf6",
          "locked": false,
          "schema_version": 3,
          "solution": true,
          "task": false
        },
        "colab": {
          "base_uri": "https://localhost:8080/"
        },
        "id": "mBLcIaJedAsy",
        "outputId": "12eb9bc8-45fd-44c0-f960-df6fa9ef3ceb"
      },
      "outputs": [
        {
          "output_type": "stream",
          "name": "stdout",
          "text": [
            "Don't match: dog\n",
            "Don't match: cat\n",
            "Don't match: bellow\n"
          ]
        }
      ],
      "source": [
        "\n",
        "import re\n",
        "pattern = \"(cat,dog)\"\n",
        "strings = ['dog','cat','bellow']\n",
        "for s in strings:\n",
        "    if re.match(pattern,s):\n",
        "        print(f\"Match: {s}\")\n",
        "    else:\n",
        "            print(f\"Don't match: {s}\")\n"
      ]
    },
    {
      "cell_type": "code",
      "execution_count": 3,
      "metadata": {
        "deletable": false,
        "nbgrader": {
          "cell_type": "code",
          "checksum": "14091abdf22327f45746c923b6ffc751",
          "grade": false,
          "grade_id": "cell-8b5dc4ee733ddb16",
          "locked": false,
          "schema_version": 3,
          "solution": true,
          "task": false
        },
        "colab": {
          "base_uri": "https://localhost:8080/"
        },
        "id": "WbkLB3pmdAsy",
        "outputId": "7eebc8ad-05a2-48ca-d355-d8c10133b69b"
      },
      "outputs": [
        {
          "output_type": "stream",
          "name": "stdout",
          "text": [
            "Match: cat\n",
            "Match: hat\n",
            "Match: rat\n",
            "Don't match: eat\n",
            "Don't match: mat\n",
            "Don't match: sat\n"
          ]
        }
      ],
      "source": [
        "import re\n",
        "pattern = \"[chr]at\"\n",
        "strings = ['cat','hat','rat','eat','mat','sat']\n",
        "for s in strings:\n",
        "    if re.match(pattern,s):\n",
        "        print(f\"Match: {s}\")\n",
        "    else:\n",
        "      print(f\"Don't match: {s}\")"
      ]
    },
    {
      "cell_type": "code",
      "execution_count": null,
      "metadata": {
        "deletable": false,
        "nbgrader": {
          "cell_type": "code",
          "checksum": "1c3b77ba2d6fe4d1e6714c4382329afd",
          "grade": false,
          "grade_id": "cell-15fe11ce9ed643a6",
          "locked": false,
          "schema_version": 3,
          "solution": true,
          "task": false
        },
        "id": "Qu0pv83AdAsz",
        "outputId": "ff7c309d-9461-45bd-a3bf-83bee732a52b"
      },
      "outputs": [
        {
          "name": "stdout",
          "output_type": "stream",
          "text": [
            "Match: bear.\n",
            "Match: lion.\n",
            "Match: orca.\n",
            "Don't match: mouse\n",
            "Don't match: koala\n",
            "Don't match: snail\n"
          ]
        }
      ],
      "source": [
        "import re\n",
        "pattern = r\"\\w+\\.\"\n",
        "strings = ['bear.', 'lion.', 'orca.', 'mouse', 'koala', 'snail']\n",
        "for s in strings:\n",
        "    if re.match(pattern, s):\n",
        "        print(f\"Match: {s}\")\n",
        "    else:\n",
        "        print(f\"Don't match: {s}\")\n"
      ]
    },
    {
      "cell_type": "code",
      "execution_count": 4,
      "metadata": {
        "deletable": false,
        "nbgrader": {
          "cell_type": "code",
          "checksum": "80f5413db2a50db076d3ca4075ea813b",
          "grade": false,
          "grade_id": "cell-63b9ef34f9d5ffff",
          "locked": false,
          "schema_version": 3,
          "solution": true,
          "task": false
        },
        "colab": {
          "base_uri": "https://localhost:8080/"
        },
        "id": "WpSmT0ZHdAs0",
        "outputId": "023e8b3c-194b-4183-e77c-8491bd45428f"
      },
      "outputs": [
        {
          "output_type": "stream",
          "name": "stdout",
          "text": [
            "Match: cub\n",
            "Match: dog\n",
            "Match: elk\n",
            "Don't match: ape\n",
            "Don't match: cow\n",
            "Don't match: ewe\n"
          ]
        }
      ],
      "source": [
        "import re\n",
        "pattern = r\"[c-e][uol][b-k]\"\n",
        "strings = ['cub', 'dog', 'elk', 'ape', 'cow', 'ewe']\n",
        "for s in strings:\n",
        "    if re.match(pattern, s):\n",
        "        print(f\"Match: {s}\")\n",
        "    else:\n",
        "        print(f\"Don't match: {s}\")"
      ]
    },
    {
      "cell_type": "code",
      "execution_count": 5,
      "metadata": {
        "deletable": false,
        "nbgrader": {
          "cell_type": "code",
          "checksum": "cb5d55c17b6617105668297af471f1d6",
          "grade": false,
          "grade_id": "cell-7ca8b8dbf6cc2bf1",
          "locked": false,
          "schema_version": 3,
          "solution": true,
          "task": false
        },
        "colab": {
          "base_uri": "https://localhost:8080/"
        },
        "id": "CoXssyqQdAs0",
        "outputId": "19402e94-600f-425f-8fd0-f93c02985782"
      },
      "outputs": [
        {
          "output_type": "stream",
          "name": "stdout",
          "text": [
            "Match: 5 sloths\n",
            "Match: 8 llamas\n",
            "Match: 7 hyenas\n",
            "Don't match: one bird\n",
            "Don't match: two owls\n"
          ]
        }
      ],
      "source": [
        "import re\n",
        "pattern = r\"\\d\\s\\w+\"\n",
        "strings = ['5 sloths', '8 llamas', '7 hyenas', 'one bird', 'two owls']\n",
        "for s in strings:\n",
        "    if re.match(pattern, s):\n",
        "        print(f\"Match: {s}\")\n",
        "    else:\n",
        "        print(f\"Don't match: {s}\")"
      ]
    },
    {
      "cell_type": "code",
      "execution_count": 6,
      "metadata": {
        "deletable": false,
        "nbgrader": {
          "cell_type": "code",
          "checksum": "18948fe394b5d8808d40a123b7d18a8e",
          "grade": false,
          "grade_id": "cell-d152fec14c10d7e6",
          "locked": false,
          "schema_version": 3,
          "solution": true,
          "task": false
        },
        "colab": {
          "base_uri": "https://localhost:8080/"
        },
        "id": "6fX2GGq6dAs1",
        "outputId": "7762585b-ee35-4884-ea16-4882d9260466"
      },
      "outputs": [
        {
          "output_type": "stream",
          "name": "stdout",
          "text": [
            "Match: puppies are my favorite!\n",
            "Match: kitty cats are my favorite!\n",
            "Don't match: deer are my favorite!\n",
            "Don't match: otters are my favorite!\n",
            "Don't match: hedgehogs are my favorite!\n"
          ]
        }
      ],
      "source": [
        "\n",
        "import re\n",
        "pattern = r\"(puppies|kitty cats) are my favorite!\"\n",
        "strings = ['puppies are my favorite!', 'kitty cats are my favorite!', 'deer are my favorite!', 'otters are my favorite!', 'hedgehogs are my favorite!']\n",
        "for s in strings:\n",
        "    if re.search(pattern, s):\n",
        "        print(f\"Match: {s}\")\n",
        "    else:\n",
        "        print(f\"Don't match: {s}\")"
      ]
    },
    {
      "cell_type": "code",
      "execution_count": 8,
      "metadata": {
        "deletable": false,
        "nbgrader": {
          "cell_type": "code",
          "checksum": "662d7673d60deee56678bc8d42ffa5c5",
          "grade": false,
          "grade_id": "cell-f0c223a646fff1c7",
          "locked": false,
          "schema_version": 3,
          "solution": true,
          "task": false
        },
        "colab": {
          "base_uri": "https://localhost:8080/"
        },
        "id": "UlFsekd-dAs1",
        "outputId": "b442ea36-3812-46d6-f1b2-423a5fb10f05"
      },
      "outputs": [
        {
          "output_type": "stream",
          "name": "stdout",
          "text": [
            "Match: squeaaak\n",
            "Match: squeaaaak\n",
            "Match: squeaaaaak\n",
            "Don't match: squeak\n",
            "Don't match: squeaak\n",
            "Don't match: squeaaaaaak\n"
          ]
        }
      ],
      "source": [
        "\n",
        "import re\n",
        "pattern = r\"squea{3,5}k\"\n",
        "strings = ['squeaaak', 'squeaaaak', 'squeaaaaak', 'squeak', 'squeaak', 'squeaaaaaak']\n",
        "for s in strings:\n",
        "    if re.search(pattern, s):\n",
        "        print(f\"Match: {s}\")\n",
        "    else:\n",
        "        print(f\"Don't match: {s}\")\n",
        "\n",
        "\n"
      ]
    },
    {
      "cell_type": "code",
      "execution_count": 9,
      "metadata": {
        "deletable": false,
        "nbgrader": {
          "cell_type": "code",
          "checksum": "0c8f633f46ccc519b2c36baa28f240a3",
          "grade": false,
          "grade_id": "cell-dc69d6690ff7ecc2",
          "locked": false,
          "schema_version": 3,
          "solution": true,
          "task": false
        },
        "colab": {
          "base_uri": "https://localhost:8080/"
        },
        "id": "OkGpDC8CdAs2",
        "outputId": "bd85e865-32b5-4fc8-cd98-5489ca864ef5"
      },
      "outputs": [
        {
          "output_type": "stream",
          "name": "stdout",
          "text": [
            "Match: 1 duck for adoption?\n",
            "Match: 5 ducks for adoption?\n",
            "Match: 7 ducks for adoption?\n"
          ]
        }
      ],
      "source": [
        "\n",
        "import re\n",
        "pattern = r'\\d\\sducks? for adoption\\?'\n",
        "strings = [\"1 duck for adoption?\", \"5 ducks for adoption?\", \"7 ducks for adoption?\"]\n",
        "for string in strings:\n",
        "    if re.match(pattern, string):\n",
        "        print(f\"Match: {string}\")\n",
        "    else:\n",
        "        print(f\"No match: {string}\")"
      ]
    },
    {
      "cell_type": "code",
      "execution_count": null,
      "metadata": {
        "id": "XyQlb-hXdAs2"
      },
      "outputs": [],
      "source": []
    },
    {
      "cell_type": "code",
      "execution_count": 10,
      "metadata": {
        "deletable": false,
        "nbgrader": {
          "cell_type": "code",
          "checksum": "a00206a9127cc773e63be44684820502",
          "grade": false,
          "grade_id": "cell-1b9e4625dfb3eb40",
          "locked": false,
          "schema_version": 3,
          "solution": true,
          "task": false
        },
        "colab": {
          "base_uri": "https://localhost:8080/"
        },
        "id": "K_WfrobJdAs3",
        "outputId": "314809ec-860c-4170-e793-f9b671748207"
      },
      "outputs": [
        {
          "output_type": "stream",
          "name": "stdout",
          "text": [
            "Match: hoot\n",
            "Match: hoooooot\n",
            "Match: hooooooooooot\n",
            "No match: hot\n",
            "No match: hoat\n",
            "No match: hoo\n"
          ]
        }
      ],
      "source": [
        "\n",
        "import re\n",
        "pattern = r'hoo+t'\n",
        "strings_to_match = [\"hoot\", \"hoooooot\", \"hooooooooooot\"]\n",
        "strings_not_to_match = [\"hot\", \"hoat\", \"hoo\"]\n",
        "for string in strings_to_match:\n",
        "    if re.match(pattern, string):\n",
        "        print(f\"Match: {string}\")\n",
        "\n",
        "for string in strings_not_to_match:\n",
        "    if not re.match(pattern, string):\n",
        "        print(f\"No match: {string}\")"
      ]
    },
    {
      "cell_type": "code",
      "execution_count": 11,
      "metadata": {
        "deletable": false,
        "nbgrader": {
          "cell_type": "code",
          "checksum": "51a385b8e8a0e13726ead52f4ec66d70",
          "grade": false,
          "grade_id": "cell-9d5301e9f3c2cb5f",
          "locked": false,
          "schema_version": 3,
          "solution": true,
          "task": false
        },
        "colab": {
          "base_uri": "https://localhost:8080/"
        },
        "id": "ODT_SanidAs3",
        "outputId": "41cbc919-5644-44c7-fb9f-6ffeeb5e94e4"
      },
      "outputs": [
        {
          "output_type": "stream",
          "name": "stdout",
          "text": [
            "Match: penguins are cooler than regular expressions\n",
            "No match: king penguins are cooler than regular expressions\n",
            "No match: penguins are cooler than regular expressions!\n"
          ]
        }
      ],
      "source": [
        "\n",
        "import re\n",
        "pattern =  r'^penguins are cooler than regular expressions$'\n",
        "strings = [\"penguins are cooler than regular expressions\",\"king penguins are cooler than regular expressions\",\"penguins are cooler than regular expressions!\"]\n",
        "for string in strings:\n",
        "    if re.match(pattern, string):\n",
        "        print(f\"Match: {string}\")\n",
        "    else:\n",
        "        print(f\"No match: {string}\")"
      ]
    },
    {
      "cell_type": "code",
      "execution_count": null,
      "metadata": {
        "deletable": false,
        "nbgrader": {
          "cell_type": "code",
          "checksum": "66df1c46fa2e3818d2bd230eaa89e4ed",
          "grade": true,
          "grade_id": "cell-1cacad3fb44ab16e",
          "locked": false,
          "points": 1,
          "schema_version": 3,
          "solution": true,
          "task": false
        },
        "id": "cgnyl1xqdAs5",
        "outputId": "b06a2ea0-6cd0-46e5-c370-c92048a29b81"
      },
      "outputs": [
        {
          "name": "stdout",
          "output_type": "stream",
          "text": [
            "df1 head:\n",
            "  Grocery Item  Cake Recipe  Pancake Recipe  Cookie Recipe\n",
            "0         Eggs            2               3              1\n",
            "1         Milk            1               2              1\n",
            "2        Flour            2               1              2\n",
            "\n",
            "df2 head:\n",
            "  Grocery Item          Recipe  Number\n",
            "0         Eggs     Cake Recipe       2\n",
            "1         Milk     Cake Recipe       1\n",
            "2        Flour     Cake Recipe       2\n",
            "3         Eggs  Pancake Recipe       3\n",
            "4         Milk  Pancake Recipe       2\n",
            "\n",
            "df1 info:\n",
            "<class 'pandas.core.frame.DataFrame'>\n",
            "RangeIndex: 3 entries, 0 to 2\n",
            "Data columns (total 4 columns):\n",
            " #   Column          Non-Null Count  Dtype \n",
            "---  ------          --------------  ----- \n",
            " 0   Grocery Item    3 non-null      object\n",
            " 1   Cake Recipe     3 non-null      int64 \n",
            " 2   Pancake Recipe  3 non-null      int64 \n",
            " 3   Cookie Recipe   3 non-null      int64 \n",
            "dtypes: int64(3), object(1)\n",
            "memory usage: 224.0+ bytes\n",
            "None\n",
            "\n",
            "df2 info:\n",
            "<class 'pandas.core.frame.DataFrame'>\n",
            "RangeIndex: 9 entries, 0 to 8\n",
            "Data columns (total 3 columns):\n",
            " #   Column        Non-Null Count  Dtype \n",
            "---  ------        --------------  ----- \n",
            " 0   Grocery Item  9 non-null      object\n",
            " 1   Recipe        9 non-null      object\n",
            " 2   Number        9 non-null      int64 \n",
            "dtypes: int64(1), object(2)\n",
            "memory usage: 344.0+ bytes\n",
            "None\n",
            "\n",
            "df1 describe:\n",
            "       Cake Recipe  Pancake Recipe  Cookie Recipe\n",
            "count     3.000000             3.0       3.000000\n",
            "mean      1.666667             2.0       1.333333\n",
            "std       0.577350             1.0       0.577350\n",
            "min       1.000000             1.0       1.000000\n",
            "25%       1.500000             1.5       1.000000\n",
            "50%       2.000000             2.0       1.000000\n",
            "75%       2.000000             2.5       1.500000\n",
            "max       2.000000             3.0       2.000000\n",
            "\n",
            "df2 describe:\n",
            "         Number\n",
            "count  9.000000\n",
            "mean   1.666667\n",
            "std    0.707107\n",
            "min    1.000000\n",
            "25%    1.000000\n",
            "50%    2.000000\n",
            "75%    2.000000\n",
            "max    3.000000\n",
            "\n",
            "df1 columns:\n",
            "Index(['Grocery Item', 'Cake Recipe', 'Pancake Recipe', 'Cookie Recipe'], dtype='object')\n",
            "\n",
            "df2 columns:\n",
            "Index(['Grocery Item', 'Recipe', 'Number'], dtype='object')\n"
          ]
        }
      ],
      "source": [
        "import pandas as pd\n",
        "\n",
        "df1 = pd.read_csv(\"data/df1.csv\")\n",
        "df2 = pd.read_csv(\"data/df2.csv\")\n",
        "\n",
        "\n",
        "\n",
        "\n",
        "import pandas as pd\n",
        "print(\"df1 head:\")\n",
        "print(df1.head())\n",
        "print(\"\\ndf2 head:\")\n",
        "print(df2.head())\n",
        "print(\"\\ndf1 info:\")\n",
        "print(df1.info())\n",
        "print(\"\\ndf2 info:\")\n",
        "print(df2.info())\n",
        "print(\"\\ndf1 describe:\")\n",
        "print(df1.describe())\n",
        "print(\"\\ndf2 describe:\")\n",
        "print(df2.describe())\n",
        "print(\"\\ndf1 columns:\")\n",
        "print(df1.columns)\n",
        "print(\"\\ndf2 columns:\")\n",
        "print(df2.columns)\n",
        "df1['Grocery Item'].value_counts()\n",
        "df2['Grocery Item'].value_counts()\n",
        "clean = 2"
      ]
    },
    {
      "cell_type": "code",
      "execution_count": null,
      "metadata": {
        "deletable": false,
        "nbgrader": {
          "cell_type": "code",
          "checksum": "49507a48293ef3a76964b16019fce63d",
          "grade": false,
          "grade_id": "cell-e76bc87ba1531d8d",
          "locked": false,
          "schema_version": 3,
          "solution": true,
          "task": false
        },
        "id": "VbJ0q7P1dAs5"
      },
      "outputs": [],
      "source": [
        "\n",
        "import pandas as pd\n",
        "clean = 2"
      ]
    },
    {
      "cell_type": "code",
      "execution_count": null,
      "metadata": {
        "deletable": false,
        "nbgrader": {
          "cell_type": "code",
          "checksum": "624f7c8680eb0da1e6f360d06c82334b",
          "grade": false,
          "grade_id": "cell-f45fef5c874248c1",
          "locked": false,
          "schema_version": 3,
          "solution": true,
          "task": false
        },
        "id": "2HU0dUivdAs6",
        "outputId": "12015b78-fb0c-480f-ba82-cd928d5b6d75"
      },
      "outputs": [
        {
          "name": "stdout",
          "output_type": "stream",
          "text": [
            "['data/exams8.csv', 'data/exams2.csv', 'data/exams5.csv', 'data/exams1.csv', 'data/exams3.csv', 'data/exams7.csv', 'data/exams4.csv', 'data/exams9.csv', 'data/exams6.csv', 'data/exams0.csv']\n"
          ]
        }
      ],
      "source": [
        "import glob\n",
        "\n",
        "import pandas as pd\n",
        "student_files = glob.glob(\"data/exams*.csv\")\n",
        "print(student_files)"
      ]
    },
    {
      "cell_type": "code",
      "execution_count": null,
      "metadata": {
        "deletable": false,
        "nbgrader": {
          "cell_type": "code",
          "checksum": "254ae5d33f1eb73aece4391421c781da",
          "grade": false,
          "grade_id": "cell-096911617f8eef29",
          "locked": false,
          "schema_version": 3,
          "solution": true,
          "task": false
        },
        "id": "f4XLF55zdAs6",
        "outputId": "f698e112-a22b-4bb4-a9b3-11c73b24bffe"
      },
      "outputs": [
        {
          "name": "stdout",
          "output_type": "stream",
          "text": [
            "[]\n"
          ]
        }
      ],
      "source": [
        "\n",
        "df_list = []\n",
        "print(df_list)"
      ]
    },
    {
      "cell_type": "code",
      "execution_count": null,
      "metadata": {
        "deletable": false,
        "nbgrader": {
          "cell_type": "code",
          "checksum": "e076440f1ee7a709ed3e74627433ef00",
          "grade": false,
          "grade_id": "cell-f223ea120640d077",
          "locked": false,
          "schema_version": 3,
          "solution": true,
          "task": false
        },
        "id": "reRZhDIJdAs6",
        "outputId": "a0c7a707-eb07-4440-d236-2999c9080de6"
      },
      "outputs": [
        {
          "name": "stdout",
          "output_type": "stream",
          "text": [
            "10\n"
          ]
        }
      ],
      "source": [
        "\n",
        "for filename in student_files:\n",
        "    data = pd.read_csv(filename)\n",
        "    df_list.append(data)\n",
        "print(len(df_list))"
      ]
    },
    {
      "cell_type": "code",
      "execution_count": null,
      "metadata": {
        "deletable": false,
        "nbgrader": {
          "cell_type": "code",
          "checksum": "d325f7b63e804d77ce7a2d08fef8af23",
          "grade": false,
          "grade_id": "cell-9d65c82f05175e86",
          "locked": false,
          "schema_version": 3,
          "solution": true,
          "task": false
        },
        "id": "4uVb0g2PdAs7",
        "outputId": "75bb457e-2212-4060-bb48-fe15fbeb942b"
      },
      "outputs": [
        {
          "name": "stdout",
          "output_type": "stream",
          "text": [
            "   id        full_name gender_age fractions probability       grade\n",
            "0   0    Andros Magnus        M14       73%         85%  11th grade\n",
            "1   1  Micheline Trent        F14       64%         81%   9th grade\n",
            "2   2   Denna Mackrill        F16       78%         70%  10th grade\n",
            "3   3   Maegan Ebbrell        F18       75%         77%  11th grade\n",
            "4   4    Nikki Dashper        M17       67%         81%  11th grade\n",
            "shape of students: (1000, 6)\n"
          ]
        }
      ],
      "source": [
        "\n",
        "students = pd.concat(df_list)\n",
        "print(students.head())\n",
        "print(\"shape of students:\", students.shape)"
      ]
    },
    {
      "cell_type": "code",
      "execution_count": null,
      "metadata": {
        "deletable": false,
        "nbgrader": {
          "cell_type": "code",
          "checksum": "ce63348897970763d941629b1400edf8",
          "grade": false,
          "grade_id": "cell-1208f9422794aa02",
          "locked": false,
          "schema_version": 3,
          "solution": true,
          "task": false
        },
        "id": "KJQMpdK9dAs7",
        "outputId": "ee96d8ab-2e8b-4e72-e5ca-134d02b9d7c4"
      },
      "outputs": [
        {
          "name": "stdout",
          "output_type": "stream",
          "text": [
            "              full_name         exam  score gender age  grade first_name  \\\n",
            "0        Moses Kirckman    fractions   69.0      M  14     11      Moses   \n",
            "1       Timofei Strowan    fractions   63.0      M  18     11    Timofei   \n",
            "2          Silvain Poll    fractions   69.0      M  18      9    Silvain   \n",
            "3        Lezley Pinxton    fractions    0.0      M  18     11     Lezley   \n",
            "4     Bernadene Saunper    fractions   72.0      F  17     11  Bernadene   \n",
            "...                 ...          ...    ...    ...  ..    ...        ...   \n",
            "1995     Wilie Stillert  probability   69.0      F  14      9      Wilie   \n",
            "1996     Gertie Flicker  probability   86.0      F  15     11     Gertie   \n",
            "1997       Yettie Labes  probability   82.0      F  14     12     Yettie   \n",
            "1998     Lock McGuinley  probability   84.0      M  18     10       Lock   \n",
            "1999       Bebe Lebbern  probability   91.0      F  15     12       Bebe   \n",
            "\n",
            "      last_name  \n",
            "0      Kirckman  \n",
            "1       Strowan  \n",
            "2          Poll  \n",
            "3       Pinxton  \n",
            "4       Saunper  \n",
            "...         ...  \n",
            "1995   Stillert  \n",
            "1996    Flicker  \n",
            "1997      Labes  \n",
            "1998  McGuinley  \n",
            "1999    Lebbern  \n",
            "\n",
            "[1976 rows x 8 columns]\n",
            "1976\n",
            "           full_name       exam  score gender age  grade first_name last_name\n",
            "0     Moses Kirckman  fractions   69.0      M  14     11      Moses  Kirckman\n",
            "1    Timofei Strowan  fractions   63.0      M  18     11    Timofei   Strowan\n",
            "2       Silvain Poll  fractions   69.0      M  18      9    Silvain      Poll\n",
            "3     Lezley Pinxton  fractions    0.0      M  18     11     Lezley   Pinxton\n",
            "4  Bernadene Saunper  fractions   72.0      F  17     11  Bernadene   Saunper\n",
            "length of students: 1976\n"
          ]
        }
      ],
      "source": [
        "\n",
        "length_students = len(students)\n",
        "print(students)\n",
        "print(length_students)\n",
        "print(students.head())\n",
        "print(\"length of students:\", length_students)"
      ]
    },
    {
      "cell_type": "code",
      "execution_count": null,
      "metadata": {
        "deletable": false,
        "nbgrader": {
          "cell_type": "code",
          "checksum": "99d7346d009af8e2cd4744a4c88f0b3c",
          "grade": false,
          "grade_id": "cell-49eb24012b31cfaa",
          "locked": false,
          "schema_version": 3,
          "solution": true,
          "task": false
        },
        "id": "ir1HFWzYdAs7",
        "outputId": "be30a261-f29d-4c15-c678-8176696da056"
      },
      "outputs": [
        {
          "name": "stdout",
          "output_type": "stream",
          "text": [
            "Index(['full_name', 'gender_age', 'fractions', 'probability', 'grade'], dtype='object')\n",
            "           full_name gender_age fractions probability       grade\n",
            "0     Moses Kirckman        M14       69%         89%  11th grade\n",
            "1    Timofei Strowan        M18       63%         76%  11th grade\n",
            "2       Silvain Poll        M18       69%         77%   9th grade\n",
            "3     Lezley Pinxton        M18       NaN         72%  11th grade\n",
            "4  Bernadene Saunper        F17       72%         84%  11th grade\n",
            "           full_name gender_age       grade       exam score\n",
            "0     Moses Kirckman        M14  11th grade  fractions   69%\n",
            "1    Timofei Strowan        M18  11th grade  fractions   63%\n",
            "2       Silvain Poll        M18   9th grade  fractions   69%\n",
            "3     Lezley Pinxton        M18  11th grade  fractions   NaN\n",
            "4  Bernadene Saunper        F17  11th grade  fractions   72%\n",
            "Index(['full_name', 'gender_age', 'grade', 'exam', 'score'], dtype='object')\n",
            "fractions      1000\n",
            "probability    1000\n",
            "Name: exam, dtype: int64\n",
            "(2000, 5)\n"
          ]
        }
      ],
      "source": [
        "import pandas as pd\n",
        "from students1 import students\n",
        "\n",
        "\n",
        "print(students.columns)\n",
        "print(students.head())\n",
        "\n",
        "\n",
        ")\n",
        "students = pd.melt(students, id_vars=['full_name', 'gender_age', 'grade'],value_vars=['fractions', 'probability'],var_name='exam',value_name='score')\n",
        "print(students.head())\n",
        "print(students.columns)\n",
        "print(students.exam.value_counts())\n",
        "print(students.shape)"
      ]
    },
    {
      "cell_type": "code",
      "execution_count": null,
      "metadata": {
        "deletable": false,
        "nbgrader": {
          "cell_type": "code",
          "checksum": "c15297ec9abdb32a1c9e21333eced80b",
          "grade": false,
          "grade_id": "cell-335d43f2b739ac13",
          "locked": false,
          "schema_version": 3,
          "solution": true,
          "task": false
        },
        "id": "PpoDkKXcdAs8",
        "outputId": "bc65315d-a8ca-44e3-8e16-fbe7cd1a9474"
      },
      "outputs": [
        {
          "name": "stdout",
          "output_type": "stream",
          "text": [
            "0    False\n",
            "1    False\n",
            "2    False\n",
            "3    False\n",
            "4    False\n",
            "dtype: bool\n",
            "how many rows are duplicates: \n",
            " False    1976\n",
            "True       24\n",
            "dtype: int64\n",
            "           full_name gender_age       grade       exam score\n",
            "0     Moses Kirckman        M14  11th grade  fractions   69%\n",
            "1    Timofei Strowan        M18  11th grade  fractions   63%\n",
            "2       Silvain Poll        M18   9th grade  fractions   69%\n",
            "3     Lezley Pinxton        M18  11th grade  fractions   NaN\n",
            "4  Bernadene Saunper        F17  11th grade  fractions   72%\n"
          ]
        }
      ],
      "source": [
        "import pandas as pd\n",
        "from students2 import students\n",
        "\n",
        "\n",
        "\n",
        "duplicates = students.duplicated()\n",
        "\n",
        "print(duplicates.head()) # show the duplicates Series\n",
        "print(\"how many rows are duplicates: \\n\", duplicates.value_counts()) # how many rows are duplicates\n",
        "students = students.drop_duplicates()\n",
        "print(students.head())"
      ]
    },
    {
      "cell_type": "code",
      "execution_count": null,
      "metadata": {
        "deletable": false,
        "nbgrader": {
          "cell_type": "code",
          "checksum": "041557baed571fdf89130c5b24057b48",
          "grade": false,
          "grade_id": "cell-7ac2019945c0a7cd",
          "locked": false,
          "schema_version": 3,
          "solution": true,
          "task": false
        },
        "id": "F85ATlbfdAs8",
        "outputId": "527eed06-764a-47ca-f562-4a7da289fe63"
      },
      "outputs": [
        {
          "name": "stdout",
          "output_type": "stream",
          "text": [
            "              full_name gender_age       grade         exam score\n",
            "0        Moses Kirckman        M14  11th grade    fractions   69%\n",
            "1       Timofei Strowan        M18  11th grade    fractions   63%\n",
            "2          Silvain Poll        M18   9th grade    fractions   69%\n",
            "3        Lezley Pinxton        M18  11th grade    fractions   NaN\n",
            "4     Bernadene Saunper        F17  11th grade    fractions   72%\n",
            "...                 ...        ...         ...          ...   ...\n",
            "1995     Wilie Stillert        F14   9th grade  probability   69%\n",
            "1996     Gertie Flicker        F15  11th grade  probability   86%\n",
            "1997       Yettie Labes        F14  12th grade  probability   82%\n",
            "1998     Lock McGuinley        M18  10th grade  probability   84%\n",
            "1999       Bebe Lebbern        F15  12th grade  probability   91%\n",
            "\n",
            "[1976 rows x 5 columns]\n"
          ]
        }
      ],
      "source": [
        "\n",
        "students = students.drop_duplicates()\n",
        "print(students)"
      ]
    },
    {
      "cell_type": "code",
      "execution_count": null,
      "metadata": {
        "deletable": false,
        "nbgrader": {
          "cell_type": "code",
          "checksum": "18711f6882c12b028ec3dc812b8b2e74",
          "grade": false,
          "grade_id": "cell-7b2b389f781420de",
          "locked": false,
          "schema_version": 3,
          "solution": true,
          "task": false
        },
        "id": "wlHhSjAadAs8",
        "outputId": "d29b4b4d-9c29-41de-b591-42f06e763425"
      },
      "outputs": [
        {
          "name": "stdout",
          "output_type": "stream",
          "text": [
            "0    False\n",
            "1    False\n",
            "2    False\n",
            "3    False\n",
            "4    False\n",
            "dtype: bool\n",
            "False    1976\n",
            "dtype: int64\n",
            "False\n"
          ]
        }
      ],
      "source": [
        "\n",
        "duplicates = students.duplicated()\n",
        "print(duplicates.head())\n",
        "print(duplicates.value_counts())\n",
        "any_true_values = any(duplicates)\n",
        "print(any_true_values)"
      ]
    },
    {
      "cell_type": "code",
      "execution_count": null,
      "metadata": {
        "deletable": false,
        "nbgrader": {
          "cell_type": "code",
          "checksum": "9c86864f08d7e7d0da34d6625df990bf",
          "grade": false,
          "grade_id": "cell-621eaee014b96ce6",
          "locked": false,
          "schema_version": 3,
          "solution": true,
          "task": false
        },
        "id": "buKsmRjXdAs8",
        "outputId": "e784a18d-ab0f-4e78-e9c6-c564fa3469e2"
      },
      "outputs": [
        {
          "name": "stdout",
          "output_type": "stream",
          "text": [
            "Index(['full_name', 'gender_age', 'grade', 'exam', 'score'], dtype='object')\n",
            "0    M14\n",
            "1    M18\n",
            "2    M18\n",
            "3    M18\n",
            "4    F17\n",
            "Name: gender_age, dtype: object\n",
            "           full_name gender_age       grade       exam score gender age\n",
            "0     Moses Kirckman        M14  11th grade  fractions   69%      M  14\n",
            "1    Timofei Strowan        M18  11th grade  fractions   63%      M  18\n",
            "2       Silvain Poll        M18   9th grade  fractions   69%      M  18\n",
            "3     Lezley Pinxton        M18  11th grade  fractions   NaN      M  18\n",
            "4  Bernadene Saunper        F17  11th grade  fractions   72%      F  17\n",
            "           full_name       grade       exam score gender age\n",
            "0     Moses Kirckman  11th grade  fractions   69%      M  14\n",
            "1    Timofei Strowan  11th grade  fractions   63%      M  18\n",
            "2       Silvain Poll   9th grade  fractions   69%      M  18\n",
            "3     Lezley Pinxton  11th grade  fractions   NaN      M  18\n",
            "4  Bernadene Saunper  11th grade  fractions   72%      F  17\n"
          ]
        }
      ],
      "source": [
        "import pandas as pd\n",
        "from students3 import students\n",
        "\n",
        "\n",
        "print(students.columns)\n",
        "print(students.gender_age.head())\n",
        "\n",
        "students['gender'] = students['gender_age'].str[0]\n",
        "students['age'] = students['gender_age'].str[1:]\n",
        "print(students.head())\n",
        "students.drop(columns=['gender_age'], inplace=True)\n",
        "print(students.head())"
      ]
    },
    {
      "cell_type": "code",
      "execution_count": null,
      "metadata": {
        "deletable": false,
        "nbgrader": {
          "cell_type": "code",
          "checksum": "e09cd0785746edcebcc185b7bcdc6342",
          "grade": false,
          "grade_id": "cell-5a80ded12e29c23c",
          "locked": false,
          "schema_version": 3,
          "solution": true,
          "task": false
        },
        "id": "FPru0IqHdAs9",
        "outputId": "a9e5e8a3-d55c-4a6e-ff91-41615d99c595"
      },
      "outputs": [
        {
          "name": "stdout",
          "output_type": "stream",
          "text": [
            "           full_name       exam score gender age first_name last_name\n",
            "0     Moses Kirckman  fractions   69%      M  14      Moses  Kirckman\n",
            "1    Timofei Strowan  fractions   63%      M  18    Timofei   Strowan\n",
            "2       Silvain Poll  fractions   69%      M  18    Silvain      Poll\n",
            "3     Lezley Pinxton  fractions   NaN      M  18     Lezley   Pinxton\n",
            "4  Bernadene Saunper  fractions   72%      F  17  Bernadene   Saunper\n"
          ]
        }
      ],
      "source": [
        "import pandas as pd\n",
        "from students4 import students\n",
        "\n",
        "\n",
        "\n",
        "name_split = students['full_name'].str.split(' ')\n",
        "students['first_name'] = name_split.str.get(0)\n",
        "students['last_name'] = name_split.str.get(1)\n",
        "\n",
        "print(students.head())"
      ]
    },
    {
      "cell_type": "code",
      "execution_count": null,
      "metadata": {
        "deletable": false,
        "nbgrader": {
          "cell_type": "code",
          "checksum": "2bb0097f4d9694b440db61c609076a06",
          "grade": false,
          "grade_id": "cell-cfaf29e84cd9aa19",
          "locked": false,
          "schema_version": 3,
          "solution": true,
          "task": false
        },
        "id": "uAGjK3A9dAs9",
        "outputId": "88eb10bd-22ed-47dc-d2d3-1be5aa36ef05"
      },
      "outputs": [
        {
          "name": "stdout",
          "output_type": "stream",
          "text": [
            "69.0\n"
          ]
        }
      ],
      "source": [
        "import pandas as pd\n",
        "from students5 import students\n",
        "\n",
        "\n",
        "students.score = students['score'].replace('[\\%]','',regex=True)\n",
        "students.score = pd.to_numeric(students.score)\n",
        "\n",
        "print(students.score[0])\n"
      ]
    },
    {
      "cell_type": "code",
      "execution_count": null,
      "metadata": {
        "deletable": false,
        "nbgrader": {
          "cell_type": "code",
          "checksum": "0780ac2aa6db768bfce9b72a9a5987a8",
          "grade": false,
          "grade_id": "cell-cae7ada76771daf0",
          "locked": false,
          "schema_version": 3,
          "solution": true,
          "task": false
        },
        "id": "4Zi33z9QdAs9",
        "outputId": "1588ed16-d9c5-4bf1-9297-84106cee3537"
      },
      "outputs": [
        {
          "name": "stdout",
          "output_type": "stream",
          "text": [
            "0    11th grade\n",
            "1    11th grade\n",
            "2     9th grade\n",
            "3    11th grade\n",
            "4    11th grade\n",
            "Name: grade, dtype: object\n",
            "full_name      object\n",
            "exam           object\n",
            "score         float64\n",
            "gender         object\n",
            "age            object\n",
            "grade          object\n",
            "first_name     object\n",
            "last_name      object\n",
            "dtype: object\n"
          ]
        }
      ],
      "source": [
        "import pandas as pd\n",
        "from students6 import students\n",
        "\n",
        "print(students.grade.head())\n",
        "\n",
        "\n",
        "\n",
        "students['grade'] = students['grade'].str.extract('(\\d+)')[0]\n",
        "\n",
        "print(students.dtypes)\n"
      ]
    },
    {
      "cell_type": "code",
      "execution_count": null,
      "metadata": {
        "deletable": false,
        "nbgrader": {
          "cell_type": "code",
          "checksum": "88fe02c7a2814aa78e36fea9a878683b",
          "grade": false,
          "grade_id": "cell-eb8e427b2c76f8c4",
          "locked": false,
          "schema_version": 3,
          "solution": true,
          "task": false
        },
        "id": "8JM3h4andAs-",
        "outputId": "1eb6a8ff-49e4-4e77-f0bd-906f0ca251c2"
      },
      "outputs": [
        {
          "name": "stdout",
          "output_type": "stream",
          "text": [
            "10.620445344129555\n"
          ]
        }
      ],
      "source": [
        "\n",
        "students.grade = pd.to_numeric(students.grade)\n",
        "avg_grade = students['grade'].mean()\n",
        "print(avg_grade)"
      ]
    },
    {
      "cell_type": "code",
      "execution_count": null,
      "metadata": {
        "deletable": false,
        "nbgrader": {
          "cell_type": "code",
          "checksum": "32bd3941fdf6b66db6a88ba974e742fa",
          "grade": false,
          "grade_id": "cell-79423ccdaed6eb72",
          "locked": false,
          "schema_version": 3,
          "solution": true,
          "task": false
        },
        "id": "Tlt_icuvdAs-",
        "outputId": "a5b92ffe-3418-4006-f97b-c9feda72242f"
      },
      "outputs": [
        {
          "name": "stdout",
          "output_type": "stream",
          "text": [
            "77.69657422512235\n",
            "72.30971659919028\n"
          ]
        }
      ],
      "source": [
        "import pandas as pd\n",
        "from students7 import students\n",
        "\n",
        "score_mean_1 = students['score'].mean()\n",
        "students['score'] = students['score'].fillna(0)\n",
        "score_mean_2 = students['score'].mean()\n",
        "print(score_mean_1)\n",
        "print(score_mean_2)"
      ]
    },
    {
      "cell_type": "code",
      "execution_count": null,
      "metadata": {
        "deletable": false,
        "nbgrader": {
          "cell_type": "code",
          "checksum": "001dbb4edf87125e46af91f17a4ffcb8",
          "grade": true,
          "grade_id": "cell-8e0fab1cb498903f",
          "locked": false,
          "points": 10,
          "schema_version": 3,
          "solution": true,
          "task": false
        },
        "id": "JXCIVxmxdAs-",
        "outputId": "247f7a0e-6d52-45a1-dbfa-d9c17096ef7c"
      },
      "outputs": [
        {
          "name": "stdout",
          "output_type": "stream",
          "text": [
            "Index(['State', 'TotalPop', 'Hispanic', 'White', 'Black', 'Native', 'Asian',\n",
            "       'Pacific', 'Income', 'GenderPop'],\n",
            "      dtype='object')\n",
            "State        object\n",
            "TotalPop      int64\n",
            "Hispanic     object\n",
            "White        object\n",
            "Black        object\n",
            "Native       object\n",
            "Asian        object\n",
            "Pacific      object\n",
            "Income       object\n",
            "GenderPop    object\n",
            "dtype: object\n"
          ]
        },
        {
          "data": {
            "image/png": "[encoded data removed]",
            "text/plain": [
              "<Figure size 432x288 with 1 Axes>"
            ]
          },
          "metadata": {
            "needs_background": "light"
          },
          "output_type": "display_data"
        },
        {
          "data": {
            "image/png": "[encoded data removed]",
            "text/plain": [
              "<Figure size 864x576 with 6 Axes>"
            ]
          },
          "metadata": {
            "needs_background": "light"
          },
          "output_type": "display_data"
        }
      ],
      "source": [
        "import pandas as pd\n",
        "import numpy as np\n",
        "import glob\n",
        "import matplotlib.pyplot as plt\n",
        "\n",
        "\n",
        "\n",
        "import matplotlib.pyplot as plt\n",
        "import glob\n",
        "files = glob.glob(\"data/states*.csv\")\n",
        "df_list = []\n",
        "for filename in files:\n",
        "    data = pd.read_csv(filename)\n",
        "    df_list.append(data)\n",
        "us_census = pd.concat(df_list)\n",
        "print(us_census.columns)\n",
        "print(us_census.dtypes)\n",
        "us_census['Income'] = us_census['Income'].replace('[\\$,]', '', regex=True).astype(float)\n",
        "us_census[['Men', 'Women']] = us_census['GenderPop'].str.split('_', expand=True)\n",
        "us_census['Men'] = us_census['Men'].str.rstrip('M').astype(float)\n",
        "us_census['Women'] = us_census['Women'].str.rstrip('F').astype(float)\n",
        "us_census['Women'] = us_census['Women'].fillna(us_census['TotalPop'] - us_census['Men'])\n",
        "us_census = us_census.drop_duplicates()\n",
        "plt.scatter(us_census['Women'], us_census['Income'])\n",
        "plt.xlabel('Proportion of Women')\n",
        "plt.ylabel('Average Income')\n",
        "plt.title('Average Income vs Proportion of Women')\n",
        "plt.show()\n",
        "us_census['Hispanic'] = us_census['Hispanic'].str.rstrip('%').astype(float)\n",
        "us_census['White'] = us_census['White'].str.rstrip('%').astype(float)\n",
        "us_census['Black'] = us_census['Black'].str.rstrip('%').astype(float)\n",
        "us_census['Native'] = us_census['Native'].str.rstrip('%').astype(float)\n",
        "us_census['Asian'] = us_census['Asian'].str.rstrip('%').astype(float)\n",
        "us_census['Pacific'] = us_census['Pacific'].str.rstrip('%').astype(float)\n",
        "plt.figure(figsize=(12, 8))\n",
        "plt.subplot(2, 3, 1)\n",
        "plt.hist(us_census['Hispanic'], bins=20, edgecolor='k')\n",
        "plt.title('Hispanic Population (%)')\n",
        "plt.subplot(2, 3, 2)\n",
        "plt.hist(us_census['White'], bins=20, edgecolor='k')\n",
        "plt.title('White Population (%)')\n",
        "plt.subplot(2, 3, 3)\n",
        "plt.hist(us_census['Black'], bins=20, edgecolor='k')\n",
        "plt.title('Black Population (%)')\n",
        "plt.subplot(2, 3, 4)\n",
        "plt.hist(us_census['Native'], bins=20, edgecolor='k')\n",
        "plt.title('Native Population (%)')\n",
        "plt.subplot(2, 3, 5)\n",
        "plt.hist(us_census['Asian'], bins=20, edgecolor='k')\n",
        "plt.title('Asian Population (%)')\n",
        "plt.subplot(2, 3, 6)\n",
        "plt.hist(us_census['Pacific'], bins=20, edgecolor='k')\n",
        "plt.title('Pacific Population (%)')\n",
        "plt.tight_layout()\n",
        "plt.show()\n"
      ]
    },
    {
      "cell_type": "code",
      "execution_count": null,
      "metadata": {
        "id": "NUBY_2RZdAs-"
      },
      "outputs": [],
      "source": []
    }
  ],
  "metadata": {
    "kernelspec": {
      "display_name": "anaconda-2022.05-py39",
      "language": "python",
      "name": "conda-env-anaconda-2022.05-py39-py"
    },
    "language_info": {
      "codemirror_mode": {
        "name": "ipython",
        "version": 3
      },
      "file_extension": ".py",
      "mimetype": "text/x-python",
      "name": "python",
      "nbconvert_exporter": "python",
      "pygments_lexer": "ipython3",
      "version": "3.9.12"
    },
    "toc": {
      "base_numbering": 1,
      "nav_menu": {},
      "number_sections": true,
      "sideBar": true,
      "skip_h1_title": false,
      "title_cell": "Table of Contents",
      "title_sidebar": "Contents",
      "toc_cell": false,
      "toc_position": {},
      "toc_section_display": true,
      "toc_window_display": false
    },
    "colab": {
      "provenance": []
    }
  },
  "nbformat": 4,
  "nbformat_minor": 0
}